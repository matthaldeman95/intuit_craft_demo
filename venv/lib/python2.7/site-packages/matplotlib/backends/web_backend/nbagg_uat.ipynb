{
 "cells": [
  {
   "cell_type": "code",
   "execution_count": null,
   "metadata": {
    "collapsed": false
   ***REMOVED***,
   "outputs": [***REMOVED***,
   "source": [
    "from __future__ import print_function\n",
    "from imp import reload"
   ***REMOVED***
  ***REMOVED***,
  {
   "cell_type": "markdown",
   "metadata": {***REMOVED***,
   "source": [
    "## UAT for NbAgg backend.\n",
    "\n",
    "The first line simply reloads matplotlib, uses the nbagg backend and then reloads the backend, just to ensure we have the latest modification to the backend code. Note: The underlying JavaScript will not be updated by this process, so a refresh of the browser after clearing the output and saving is necessary to clear everything fully."
   ***REMOVED***
  ***REMOVED***,
  {
   "cell_type": "code",
   "execution_count": null,
   "metadata": {
    "collapsed": false
   ***REMOVED***,
   "outputs": [***REMOVED***,
   "source": [
    "import matplotlib\n",
    "reload(matplotlib***REMOVED***\n",
    "\n",
    "matplotlib.use('nbagg'***REMOVED***\n",
    "\n",
    "import matplotlib.backends.backend_nbagg\n",
    "reload(matplotlib.backends.backend_nbagg***REMOVED***"
   ***REMOVED***
  ***REMOVED***,
  {
   "cell_type": "markdown",
   "metadata": {***REMOVED***,
   "source": [
    "### UAT 1 - Simple figure creation using pyplot\n",
    "\n",
    "Should produce a figure window which is interactive with the pan and zoom buttons. (Do not press the close button, but any others may be used***REMOVED***."
   ***REMOVED***
  ***REMOVED***,
  {
   "cell_type": "code",
   "execution_count": null,
   "metadata": {
    "collapsed": false
   ***REMOVED***,
   "outputs": [***REMOVED***,
   "source": [
    "import matplotlib.backends.backend_webagg_core\n",
    "reload(matplotlib.backends.backend_webagg_core***REMOVED***\n",
    "\n",
    "import matplotlib.pyplot as plt\n",
    "plt.interactive(False***REMOVED***\n",
    "\n",
    "fig1 = plt.figure(***REMOVED***\n",
    "plt.plot(range(10***REMOVED******REMOVED***\n",
    "\n",
    "plt.show(***REMOVED***"
   ***REMOVED***
  ***REMOVED***,
  {
   "cell_type": "markdown",
   "metadata": {***REMOVED***,
   "source": [
    "### UAT 2 - Creation of another figure, without the need to do plt.figure.\n",
    "\n",
    "As above, a new figure should be created."
   ***REMOVED***
  ***REMOVED***,
  {
   "cell_type": "code",
   "execution_count": null,
   "metadata": {
    "collapsed": false
   ***REMOVED***,
   "outputs": [***REMOVED***,
   "source": [
    "plt.plot([3, 2, 1***REMOVED******REMOVED***\n",
    "plt.show(***REMOVED***"
   ***REMOVED***
  ***REMOVED***,
  {
   "cell_type": "markdown",
   "metadata": {***REMOVED***,
   "source": [
    "### UAT 3 - Connection info\n",
    "\n",
    "The printout should show that there are two figures which have active CommSockets, and no figures pending show."
   ***REMOVED***
  ***REMOVED***,
  {
   "cell_type": "code",
   "execution_count": null,
   "metadata": {
    "collapsed": false
   ***REMOVED***,
   "outputs": [***REMOVED***,
   "source": [
    "print(matplotlib.backends.backend_nbagg.connection_info(***REMOVED******REMOVED***"
   ***REMOVED***
  ***REMOVED***,
  {
   "cell_type": "markdown",
   "metadata": {***REMOVED***,
   "source": [
    "### UAT 4 - Closing figures\n",
    "\n",
    "Closing a specific figure instance should turn the figure into a plain image - the UI should have been removed. In this case, scroll back to the first figure and assert this is the case."
   ***REMOVED***
  ***REMOVED***,
  {
   "cell_type": "code",
   "execution_count": null,
   "metadata": {
    "collapsed": false
   ***REMOVED***,
   "outputs": [***REMOVED***,
   "source": [
    "plt.close(fig1***REMOVED***"
   ***REMOVED***
  ***REMOVED***,
  {
   "cell_type": "markdown",
   "metadata": {***REMOVED***,
   "source": [
    "### UAT 5 - No show without plt.show in non-interactive mode\n",
    "\n",
    "Simply doing a plt.plot should not show a new figure, nor indeed update an existing one (easily verified in UAT 6***REMOVED***.\n",
    "The output should simply be a list of Line2D instances."
   ***REMOVED***
  ***REMOVED***,
  {
   "cell_type": "code",
   "execution_count": null,
   "metadata": {
    "collapsed": false
   ***REMOVED***,
   "outputs": [***REMOVED***,
   "source": [
    "plt.plot(range(10***REMOVED******REMOVED***"
   ***REMOVED***
  ***REMOVED***,
  {
   "cell_type": "markdown",
   "metadata": {***REMOVED***,
   "source": [
    "### UAT 6 - Connection information\n",
    "\n",
    "We just created a new figure, but didn't show it. Connection info should no longer have \"Figure 1\" (as we closed it in UAT 4***REMOVED*** and should have figure 2 and 3, with Figure 3 without any connections. There should be 1 figure pending."
   ***REMOVED***
  ***REMOVED***,
  {
   "cell_type": "code",
   "execution_count": null,
   "metadata": {
    "collapsed": false
   ***REMOVED***,
   "outputs": [***REMOVED***,
   "source": [
    "print(matplotlib.backends.backend_nbagg.connection_info(***REMOVED******REMOVED***"
   ***REMOVED***
  ***REMOVED***,
  {
   "cell_type": "markdown",
   "metadata": {***REMOVED***,
   "source": [
    "### UAT 7 - Show of previously created figure\n",
    "\n",
    "We should be able to show a figure we've previously created. The following should produce two figure windows."
   ***REMOVED***
  ***REMOVED***,
  {
   "cell_type": "code",
   "execution_count": null,
   "metadata": {
    "collapsed": false
   ***REMOVED***,
   "outputs": [***REMOVED***,
   "source": [
    "plt.show(***REMOVED***\n",
    "plt.figure(***REMOVED***\n",
    "plt.plot(range(5***REMOVED******REMOVED***\n",
    "plt.show(***REMOVED***"
   ***REMOVED***
  ***REMOVED***,
  {
   "cell_type": "markdown",
   "metadata": {***REMOVED***,
   "source": [
    "### UAT 8 - Interactive mode\n",
    "\n",
    "In interactive mode, creating a line should result in a figure being shown."
   ***REMOVED***
  ***REMOVED***,
  {
   "cell_type": "code",
   "execution_count": null,
   "metadata": {
    "collapsed": false
   ***REMOVED***,
   "outputs": [***REMOVED***,
   "source": [
    "plt.interactive(True***REMOVED***\n",
    "plt.figure(***REMOVED***\n",
    "plt.plot([3, 2, 1***REMOVED******REMOVED***"
   ***REMOVED***
  ***REMOVED***,
  {
   "cell_type": "markdown",
   "metadata": {***REMOVED***,
   "source": [
    "Subsequent lines should be added to the existing figure, rather than creating a new one."
   ***REMOVED***
  ***REMOVED***,
  {
   "cell_type": "code",
   "execution_count": null,
   "metadata": {
    "collapsed": false
   ***REMOVED***,
   "outputs": [***REMOVED***,
   "source": [
    "plt.plot(range(3***REMOVED******REMOVED***"
   ***REMOVED***
  ***REMOVED***,
  {
   "cell_type": "markdown",
   "metadata": {***REMOVED***,
   "source": [
    "Calling connection_info in interactive mode should not show any pending figures."
   ***REMOVED***
  ***REMOVED***,
  {
   "cell_type": "code",
   "execution_count": null,
   "metadata": {
    "collapsed": false
   ***REMOVED***,
   "outputs": [***REMOVED***,
   "source": [
    "print(matplotlib.backends.backend_nbagg.connection_info(***REMOVED******REMOVED***"
   ***REMOVED***
  ***REMOVED***,
  {
   "cell_type": "markdown",
   "metadata": {***REMOVED***,
   "source": [
    "Disable interactive mode again."
   ***REMOVED***
  ***REMOVED***,
  {
   "cell_type": "code",
   "execution_count": null,
   "metadata": {
    "collapsed": false
   ***REMOVED***,
   "outputs": [***REMOVED***,
   "source": [
    "plt.interactive(False***REMOVED***"
   ***REMOVED***
  ***REMOVED***,
  {
   "cell_type": "markdown",
   "metadata": {***REMOVED***,
   "source": [
    "### UAT 9 - Multiple shows\n",
    "\n",
    "Unlike most of the other matplotlib backends, we may want to see a figure multiple times (with or without synchronisation between the views, though the former is not yet implemented***REMOVED***. Assert that plt.gcf(***REMOVED***.canvas.manager.reshow(***REMOVED*** results in another figure window which is synchronised upon pan & zoom."
   ***REMOVED***
  ***REMOVED***,
  {
   "cell_type": "code",
   "execution_count": null,
   "metadata": {
    "collapsed": false
   ***REMOVED***,
   "outputs": [***REMOVED***,
   "source": [
    "plt.gcf(***REMOVED***.canvas.manager.reshow(***REMOVED***"
   ***REMOVED***
  ***REMOVED***,
  {
   "cell_type": "markdown",
   "metadata": {***REMOVED***,
   "source": [
    "### UAT 10 - Saving notebook\n",
    "\n",
    "Saving the notebook (with CTRL+S or File->Save***REMOVED*** should result in the saved notebook having static versions of the figues embedded within. The image should be the last update from user interaction and interactive plotting. (check by converting with ``ipython nbconvert <notebook>``***REMOVED***"
   ***REMOVED***
  ***REMOVED***,
  {
   "cell_type": "markdown",
   "metadata": {***REMOVED***,
   "source": [
    "### UAT 11 - Creation of a new figure on second show\n",
    "\n",
    "Create a figure, show it, then create a new axes and show it. The result should be a new figure.\n",
    "\n",
    "**BUG: Sometimes this doesn't work - not sure why (@pelson***REMOVED***.**"
   ***REMOVED***
  ***REMOVED***,
  {
   "cell_type": "code",
   "execution_count": null,
   "metadata": {
    "collapsed": false
   ***REMOVED***,
   "outputs": [***REMOVED***,
   "source": [
    "fig = plt.figure(***REMOVED***\n",
    "plt.axes(***REMOVED***\n",
    "plt.show(***REMOVED***\n",
    "\n",
    "plt.plot([1, 2, 3***REMOVED******REMOVED***\n",
    "plt.show(***REMOVED***"
   ***REMOVED***
  ***REMOVED***,
  {
   "cell_type": "markdown",
   "metadata": {***REMOVED***,
   "source": [
    "### UAT 12 - OO interface\n",
    "\n",
    "Should produce a new figure and plot it."
   ***REMOVED***
  ***REMOVED***,
  {
   "cell_type": "code",
   "execution_count": null,
   "metadata": {
    "collapsed": false
   ***REMOVED***,
   "outputs": [***REMOVED***,
   "source": [
    "from matplotlib.backends.backend_nbagg import new_figure_manager,show\n",
    "\n",
    "manager = new_figure_manager(1000***REMOVED***\n",
    "fig = manager.canvas.figure\n",
    "ax = fig.add_subplot(1,1,1***REMOVED***\n",
    "ax.plot([1,2,3***REMOVED******REMOVED***\n",
    "fig.show(***REMOVED***"
   ***REMOVED***
  ***REMOVED***,
  {
   "cell_type": "markdown",
   "metadata": {***REMOVED***,
   "source": [
    "## UAT 13 - Animation\n",
    "\n",
    "The following should generate an animated line:"
   ***REMOVED***
  ***REMOVED***,
  {
   "cell_type": "code",
   "execution_count": null,
   "metadata": {
    "collapsed": false
   ***REMOVED***,
   "outputs": [***REMOVED***,
   "source": [
    "import matplotlib.animation as animation\n",
    "import numpy as np\n",
    "\n",
    "fig, ax = plt.subplots(***REMOVED***\n",
    "\n",
    "x = np.arange(0, 2*np.pi, 0.01***REMOVED***        # x-array\n",
    "line, = ax.plot(x, np.sin(x***REMOVED******REMOVED***\n",
    "\n",
    "def animate(i***REMOVED***:\n",
    "    line.set_ydata(np.sin(x+i/10.0***REMOVED******REMOVED***  # update the data\n",
    "    return line,\n",
    "\n",
    "#Init only required for blitting to give a clean slate.\n",
    "def init(***REMOVED***:\n",
    "    line.set_ydata(np.ma.array(x, mask=True***REMOVED******REMOVED***\n",
    "    return line,\n",
    "\n",
    "ani = animation.FuncAnimation(fig, animate, np.arange(1, 200***REMOVED***, init_func=init,\n",
    "                              interval=32., blit=True***REMOVED***\n",
    "plt.show(***REMOVED***"
   ***REMOVED***
  ***REMOVED***,
  {
   "cell_type": "markdown",
   "metadata": {***REMOVED***,
   "source": [
    "### UAT 14 - Keyboard shortcuts in IPython after close of figure\n",
    "\n",
    "After closing the previous figure (with the close button above the figure***REMOVED*** the IPython keyboard shortcuts should still function.\n",
    "\n",
    "### UAT 15 - Figure face colours\n",
    "\n",
    "The nbagg honours all colours appart from that of the figure.patch. The two plots below should produce a figure with a transparent background and a red background respectively (check the transparency by closing the figure, and dragging the resulting image over other content***REMOVED***. There should be no yellow figure."
   ***REMOVED***
  ***REMOVED***,
  {
   "cell_type": "code",
   "execution_count": null,
   "metadata": {
    "collapsed": false
   ***REMOVED***,
   "outputs": [***REMOVED***,
   "source": [
    "import matplotlib\n",
    "matplotlib.rcParams.update({'figure.facecolor': 'red',\n",
    "                            'savefig.facecolor': 'yellow'***REMOVED******REMOVED***\n",
    "plt.figure(***REMOVED***\n",
    "plt.plot([3, 2, 1***REMOVED******REMOVED***\n",
    "\n",
    "with matplotlib.rc_context({'nbagg.transparent': False***REMOVED******REMOVED***:\n",
    "    plt.figure(***REMOVED***\n",
    "\n",
    "plt.plot([3, 2, 1***REMOVED******REMOVED***\n",
    "plt.show(***REMOVED***"
   ***REMOVED***
  ***REMOVED***,
  {
   "cell_type": "markdown",
   "metadata": {***REMOVED***,
   "source": [
    "### UAT 16 - Events\n",
    "\n",
    "Pressing any keyboard key or mouse button (or scrolling***REMOVED*** should cycle the line line while the figure has focus.  The figure should have focus by default when it is created and re-gain it by clicking on the canvas.  Clicking anywhere outside of the figure should release focus, but moving the mouse out of the figure should not release focus."
   ***REMOVED***
  ***REMOVED***,
  {
   "cell_type": "code",
   "execution_count": null,
   "metadata": {
    "collapsed": false
   ***REMOVED***,
   "outputs": [***REMOVED***,
   "source": [
    "import itertools\n",
    "fig, ax = plt.subplots(***REMOVED***\n",
    "x = np.linspace(0,10,10000***REMOVED***\n",
    "y = np.sin(x***REMOVED***\n",
    "ln, = ax.plot(x,y***REMOVED***\n",
    "evt = [***REMOVED***\n",
    "colors = iter(itertools.cycle(['r', 'g', 'b', 'k', 'c'***REMOVED******REMOVED******REMOVED***\n",
    "def on_event(event***REMOVED***:\n",
    "    if event.name.startswith('key'***REMOVED***:\n",
    "        fig.suptitle('%s: %s' % (event.name, event.key***REMOVED******REMOVED***\n",
    "    elif event.name == 'scroll_event':\n",
    "        fig.suptitle('%s: %s' % (event.name, event.step***REMOVED******REMOVED***\n",
    "    else:\n",
    "        fig.suptitle('%s: %s' % (event.name, event.button***REMOVED******REMOVED***\n",
    "    evt.append(event***REMOVED***\n",
    "    ln.set_color(next(colors***REMOVED******REMOVED***\n",
    "    fig.canvas.draw(***REMOVED***\n",
    "    fig.canvas.draw_idle(***REMOVED***\n",
    "\n",
    "fig.canvas.mpl_connect('button_press_event', on_event***REMOVED***\n",
    "fig.canvas.mpl_connect('button_release_event', on_event***REMOVED***\n",
    "fig.canvas.mpl_connect('scroll_event', on_event***REMOVED***\n",
    "fig.canvas.mpl_connect('key_press_event', on_event***REMOVED***\n",
    "fig.canvas.mpl_connect('key_release_event', on_event***REMOVED***\n",
    "\n",
    "plt.show(***REMOVED***"
   ***REMOVED***
  ***REMOVED***,
  {
   "cell_type": "markdown",
   "metadata": {***REMOVED***,
   "source": [
    "### UAT 17 - Timers\n",
    "\n",
    "Single-shot timers follow a completely different code path in the nbagg backend than regular timers (such as those used in the animation example above.***REMOVED***  The next set of tests ensures that both \"regular\" and \"single-shot\" timers work properly.\n",
    "\n",
    "The following should show a simple clock that updates twice a second:"
   ***REMOVED***
  ***REMOVED***,
  {
   "cell_type": "code",
   "execution_count": null,
   "metadata": {
    "collapsed": false
   ***REMOVED***,
   "outputs": [***REMOVED***,
   "source": [
    "import time\n",
    "\n",
    "fig, ax = plt.subplots(***REMOVED***\n",
    "text = ax.text(0.5, 0.5, '', ha='center'***REMOVED***\n",
    "\n",
    "def update(text***REMOVED***:\n",
    "    text.set(text=time.ctime(***REMOVED******REMOVED***\n",
    "    text.axes.figure.canvas.draw(***REMOVED***\n",
    "    \n",
    "timer = fig.canvas.new_timer(500, [(update, [text***REMOVED***, {***REMOVED******REMOVED******REMOVED******REMOVED***\n",
    "timer.start(***REMOVED***\n",
    "plt.show(***REMOVED***"
   ***REMOVED***
  ***REMOVED***,
  {
   "cell_type": "markdown",
   "metadata": {***REMOVED***,
   "source": [
    "However, the following should only update once and then stop:"
   ***REMOVED***
  ***REMOVED***,
  {
   "cell_type": "code",
   "execution_count": null,
   "metadata": {
    "collapsed": false
   ***REMOVED***,
   "outputs": [***REMOVED***,
   "source": [
    "fig, ax = plt.subplots(***REMOVED***\n",
    "text = ax.text(0.5, 0.5, '', ha='center'***REMOVED*** \n",
    "timer = fig.canvas.new_timer(500, [(update, [text***REMOVED***, {***REMOVED******REMOVED******REMOVED******REMOVED***\n",
    "\n",
    "timer.single_shot = True\n",
    "timer.start(***REMOVED***\n",
    "\n",
    "plt.show(***REMOVED***"
   ***REMOVED***
  ***REMOVED***,
  {
   "cell_type": "markdown",
   "metadata": {***REMOVED***,
   "source": [
    "And the next two examples should never show any visible text at all:"
   ***REMOVED***
  ***REMOVED***,
  {
   "cell_type": "code",
   "execution_count": null,
   "metadata": {
    "collapsed": false
   ***REMOVED***,
   "outputs": [***REMOVED***,
   "source": [
    "fig, ax = plt.subplots(***REMOVED***\n",
    "text = ax.text(0.5, 0.5, '', ha='center'***REMOVED***\n",
    "timer = fig.canvas.new_timer(500, [(update, [text***REMOVED***, {***REMOVED******REMOVED******REMOVED******REMOVED***\n",
    "\n",
    "timer.start(***REMOVED***\n",
    "timer.stop(***REMOVED***\n",
    "\n",
    "plt.show(***REMOVED***"
   ***REMOVED***
  ***REMOVED***,
  {
   "cell_type": "code",
   "execution_count": null,
   "metadata": {
    "collapsed": false
   ***REMOVED***,
   "outputs": [***REMOVED***,
   "source": [
    "fig, ax = plt.subplots(***REMOVED***\n",
    "text = ax.text(0.5, 0.5, '', ha='center'***REMOVED***\n",
    "timer = fig.canvas.new_timer(500, [(update, [text***REMOVED***, {***REMOVED******REMOVED******REMOVED******REMOVED***\n",
    "\n",
    "timer.single_shot = True\n",
    "timer.start(***REMOVED***\n",
    "timer.stop(***REMOVED***\n",
    "\n",
    "plt.show(***REMOVED***"
   ***REMOVED***
  ***REMOVED***,
  {
   "cell_type": "markdown",
   "metadata": {***REMOVED***,
   "source": [
    "### UAT17 - stoping figure when removed from DOM\n",
    "\n",
    "When the div that contains from the figure is removed from the DOM the figure should shut down it's comm, and if the python-side figure has no more active comms, it should destroy the figure. Repeatedly running the cell below should always have the same figure number"
   ***REMOVED***
  ***REMOVED***,
  {
   "cell_type": "code",
   "execution_count": null,
   "metadata": {
    "collapsed": false
   ***REMOVED***,
   "outputs": [***REMOVED***,
   "source": [
    "fig, ax = plt.subplots(***REMOVED***\n",
    "ax.plot(range(5***REMOVED******REMOVED***\n",
    "plt.show(***REMOVED***"
   ***REMOVED***
  ***REMOVED***,
  {
   "cell_type": "markdown",
   "metadata": {***REMOVED***,
   "source": [
    "Running the cell below will re-show the figure. After this, re-running the cell above should result in a new figure number."
   ***REMOVED***
  ***REMOVED***,
  {
   "cell_type": "code",
   "execution_count": null,
   "metadata": {
    "collapsed": false
   ***REMOVED***,
   "outputs": [***REMOVED***,
   "source": [
    "fig.canvas.manager.reshow(***REMOVED***"
   ***REMOVED***
  ***REMOVED***,
  {
   "cell_type": "code",
   "execution_count": null,
   "metadata": {
    "collapsed": true
   ***REMOVED***,
   "outputs": [***REMOVED***,
   "source": [***REMOVED***
  ***REMOVED***
 ***REMOVED***,
 "metadata": {
  "kernelspec": {
   "display_name": "Python 3",
   "language": "python",
   "name": "python3"
  ***REMOVED***,
  "language_info": {
   "codemirror_mode": {
    "name": "ipython",
    "version": 3
   ***REMOVED***,
   "file_extension": ".py",
   "mimetype": "text/x-python",
   "name": "python",
   "nbconvert_exporter": "python",
   "pygments_lexer": "ipython3",
   "version": "3.4.3"
  ***REMOVED***
 ***REMOVED***,
 "nbformat": 4,
 "nbformat_minor": 0
***REMOVED***
